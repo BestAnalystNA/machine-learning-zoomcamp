{
 "cells": [
  {
   "cell_type": "code",
   "execution_count": 1,
   "id": "ca845af1-e253-4282-9b2e-8e02d5adc312",
   "metadata": {},
   "outputs": [
    {
     "name": "stdout",
     "output_type": "stream",
     "text": [
      "Collecting pipenv\n",
      "  Downloading pipenv-2024.3.0-py3-none-any.whl.metadata (19 kB)\n",
      "Requirement already satisfied: certifi in c:\\users\\owner\\anaconda3\\lib\\site-packages (from pipenv) (2024.8.30)\n",
      "Requirement already satisfied: packaging>=22 in c:\\users\\owner\\anaconda3\\lib\\site-packages (from pipenv) (23.1)\n",
      "Requirement already satisfied: setuptools>=67 in c:\\users\\owner\\anaconda3\\lib\\site-packages (from pipenv) (68.2.2)\n",
      "Collecting virtualenv>=20.24.2 (from pipenv)\n",
      "  Downloading virtualenv-20.27.1-py3-none-any.whl.metadata (4.5 kB)\n",
      "Collecting distlib<1,>=0.3.7 (from virtualenv>=20.24.2->pipenv)\n",
      "  Downloading distlib-0.3.9-py2.py3-none-any.whl.metadata (5.2 kB)\n",
      "Requirement already satisfied: filelock<4,>=3.12.2 in c:\\users\\owner\\anaconda3\\lib\\site-packages (from virtualenv>=20.24.2->pipenv) (3.13.1)\n",
      "Requirement already satisfied: platformdirs<5,>=3.9.1 in c:\\users\\owner\\anaconda3\\lib\\site-packages (from virtualenv>=20.24.2->pipenv) (3.10.0)\n",
      "Downloading pipenv-2024.3.0-py3-none-any.whl (3.0 MB)\n",
      "   ---------------------------------------- 0.0/3.0 MB ? eta -:--:--\n",
      "   ---------- ----------------------------- 0.8/3.0 MB 25.8 MB/s eta 0:00:01\n",
      "   ---------------------------------------  3.0/3.0 MB 48.7 MB/s eta 0:00:01\n",
      "   ---------------------------------------- 3.0/3.0 MB 38.8 MB/s eta 0:00:00\n",
      "Downloading virtualenv-20.27.1-py3-none-any.whl (3.1 MB)\n",
      "   ---------------------------------------- 0.0/3.1 MB ? eta -:--:--\n",
      "   ----------------------------- ---------- 2.3/3.1 MB 73.0 MB/s eta 0:00:01\n",
      "   ---------------------------------------- 3.1/3.1 MB 50.1 MB/s eta 0:00:00\n",
      "Downloading distlib-0.3.9-py2.py3-none-any.whl (468 kB)\n",
      "   ---------------------------------------- 0.0/469.0 kB ? eta -:--:--\n",
      "   --------------------------------------- 469.0/469.0 kB 28.7 MB/s eta 0:00:00\n",
      "Installing collected packages: distlib, virtualenv, pipenv\n",
      "Successfully installed distlib-0.3.9 pipenv-2024.3.0 virtualenv-20.27.1\n",
      "Note: you may need to restart the kernel to use updated packages.\n"
     ]
    }
   ],
   "source": [
    "pip install pipenv"
   ]
  },
  {
   "cell_type": "code",
   "execution_count": 4,
   "id": "86f737b6-d8e2-4302-88c5-ce6810c60089",
   "metadata": {},
   "outputs": [
    {
     "data": {
      "text/plain": [
       "'2024.3.0'"
      ]
     },
     "execution_count": 4,
     "metadata": {},
     "output_type": "execute_result"
    }
   ],
   "source": [
    "import pipenv\n",
    "pipenv.__version__"
   ]
  },
  {
   "cell_type": "code",
   "execution_count": 11,
   "id": "d52b1153-12c2-4ff9-bbf9-cf56e5a59cd4",
   "metadata": {},
   "outputs": [],
   "source": [
    "import pickle"
   ]
  },
  {
   "cell_type": "code",
   "execution_count": 16,
   "id": "29cc6b6c-7aea-4f93-a5d3-3b295f585e50",
   "metadata": {},
   "outputs": [
    {
     "ename": "UnpicklingError",
     "evalue": "invalid load key, '\\x0a'.",
     "output_type": "error",
     "traceback": [
      "\u001b[1;31m---------------------------------------------------------------------------\u001b[0m",
      "\u001b[1;31mUnpicklingError\u001b[0m                           Traceback (most recent call last)",
      "Cell \u001b[1;32mIn[16], line 2\u001b[0m\n\u001b[0;32m      1\u001b[0m \u001b[38;5;28;01mwith\u001b[39;00m \u001b[38;5;28mopen\u001b[39m(\u001b[38;5;124m'\u001b[39m\u001b[38;5;124mdv.bin\u001b[39m\u001b[38;5;124m'\u001b[39m, \u001b[38;5;124m'\u001b[39m\u001b[38;5;124mrb\u001b[39m\u001b[38;5;124m'\u001b[39m) \u001b[38;5;28;01mas\u001b[39;00m file:\n\u001b[1;32m----> 2\u001b[0m     dv \u001b[38;5;241m=\u001b[39m pickle\u001b[38;5;241m.\u001b[39mload(file)\n",
      "\u001b[1;31mUnpicklingError\u001b[0m: invalid load key, '\\x0a'."
     ]
    }
   ],
   "source": [
    "with open('dv.bin', 'rb') as file:\n",
    "    dv = pickle.load(file)"
   ]
  },
  {
   "cell_type": "code",
   "execution_count": null,
   "id": "03060d05-48d9-49b3-8346-492d520b1a3b",
   "metadata": {},
   "outputs": [],
   "source": []
  }
 ],
 "metadata": {
  "kernelspec": {
   "display_name": "Python 3 (ipykernel)",
   "language": "python",
   "name": "python3"
  },
  "language_info": {
   "codemirror_mode": {
    "name": "ipython",
    "version": 3
   },
   "file_extension": ".py",
   "mimetype": "text/x-python",
   "name": "python",
   "nbconvert_exporter": "python",
   "pygments_lexer": "ipython3",
   "version": "3.11.7"
  }
 },
 "nbformat": 4,
 "nbformat_minor": 5
}
