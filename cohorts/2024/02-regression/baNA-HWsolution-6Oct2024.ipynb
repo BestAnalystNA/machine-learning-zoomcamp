{
 "cells": [
  {
   "cell_type": "code",
   "execution_count": 1,
   "id": "5653f396-a960-467e-afa1-e61de1c6aadf",
   "metadata": {},
   "outputs": [],
   "source": [
    "import pandas as pd\n",
    "import numpy as np\n",
    "\n",
    "df = pd.read_csv(\"laptops.csv\")"
   ]
  },
  {
   "cell_type": "code",
   "execution_count": 3,
   "id": "b2055630-1f17-44fe-b9fa-70b63549788c",
   "metadata": {},
   "outputs": [],
   "source": [
    "df.columns = df.columns.str.lower().str.replace(' ', '_')"
   ]
  },
  {
   "cell_type": "code",
   "execution_count": 5,
   "id": "0bf946a5-112b-49ae-b249-5545ce96cfec",
   "metadata": {},
   "outputs": [
    {
     "data": {
      "text/plain": [
       "Index(['laptop', 'status', 'brand', 'model', 'cpu', 'ram', 'storage',\n",
       "       'storage_type', 'gpu', 'screen', 'touch', 'final_price'],\n",
       "      dtype='object')"
      ]
     },
     "execution_count": 5,
     "metadata": {},
     "output_type": "execute_result"
    }
   ],
   "source": [
    "df.columns"
   ]
  },
  {
   "cell_type": "code",
   "execution_count": 6,
   "id": "405cb9a2-6d72-4774-942c-9e0fb81d77e7",
   "metadata": {},
   "outputs": [],
   "source": [
    "keep = ['ram', 'storage', 'screen', 'final_price']"
   ]
  },
  {
   "cell_type": "code",
   "execution_count": 8,
   "id": "4d0ffd2b-dafa-42ba-8553-cfbea1864a9f",
   "metadata": {},
   "outputs": [
    {
     "data": {
      "text/plain": [
       "<Axes: >"
      ]
     },
     "execution_count": 8,
     "metadata": {},
     "output_type": "execute_result"
    },
    {
     "data": {
      "image/png": "[encoded data removed]",
      "text/plain": [
       "<Figure size 640x480 with 1 Axes>"
      ]
     },
     "metadata": {},
     "output_type": "display_data"
    }
   ],
   "source": [
    "df['final_price'].hist()"
   ]
  },
  {
   "cell_type": "code",
   "execution_count": 9,
   "id": "b3e0e48a-bf13-4455-9fc5-016647788a8c",
   "metadata": {},
   "outputs": [],
   "source": [
    "df_keep = df[keep]"
   ]
  },
  {
   "cell_type": "markdown",
   "id": "f2dcbdd7-cce5-4bc0-9a0a-b8e6e9df2c98",
   "metadata": {},
   "source": [
    "#### Question 1 - There's one column with missing values. What is it?\r\n"
   ]
  },
  {
   "cell_type": "code",
   "execution_count": 12,
   "id": "994ee78b-f214-4746-84b3-cb614acf47d6",
   "metadata": {},
   "outputs": [
    {
     "data": {
      "text/plain": [
       "ram            0\n",
       "storage        0\n",
       "screen         4\n",
       "final_price    0\n",
       "dtype: int64"
      ]
     },
     "execution_count": 12,
     "metadata": {},
     "output_type": "execute_result"
    }
   ],
   "source": [
    "df_keep.isna().sum()\n",
    "#screen is the column with missing values"
   ]
  },
  {
   "cell_type": "markdown",
   "id": "3232cffb-10fa-496e-8cf2-c2962ef2b15e",
   "metadata": {},
   "source": [
    "#### Question 2 - What's the median (50% percentile) for variable 'ram'?"
   ]
  },
  {
   "cell_type": "code",
   "execution_count": 16,
   "id": "ab2358a6-243e-4757-b6a2-86b5efe090ac",
   "metadata": {},
   "outputs": [
    {
     "data": {
      "text/plain": [
       "16.0"
      ]
     },
     "execution_count": 16,
     "metadata": {},
     "output_type": "execute_result"
    }
   ],
   "source": [
    "df_keep.ram.median()"
   ]
  },
  {
   "cell_type": "markdown",
   "id": "376c9c39-91d5-4e15-aefc-e3cfc4917e25",
   "metadata": {},
   "source": [
    "#### Prepare and split the dataset\r\n",
    "Shuffle the dataset (the filtered one you created above), use seed 4<br>.\r\n",
    "Split your data in train/val/test sets, with 60%/20%/20% din.n."
   ]
  },
  {
   "cell_type": "code",
   "execution_count": 18,
   "id": "951fb201-293b-4791-9265-312a39f4219c",
   "metadata": {},
   "outputs": [
    {
     "data": {
      "text/plain": [
       "(432, 432, 1296)"
      ]
     },
     "execution_count": 18,
     "metadata": {},
     "output_type": "execute_result"
    }
   ],
   "source": [
    "n = len(df_keep)\n",
    "\n",
    "n_val = int(0.2*n)\n",
    "n_test = int(0.2*n)\n",
    "n_train = n - (n_val+n_test)\n",
    "\n",
    "n_val, n_test, n_train"
   ]
  },
  {
   "cell_type": "code",
   "execution_count": 27,
   "id": "c8c8d133-8898-4cf2-b995-d23b80a60b07",
   "metadata": {},
   "outputs": [],
   "source": [
    "np.random.seed(42)\n",
    "idx = np.arange(n)\n",
    "np.random.shuffle(idx)"
   ]
  },
  {
   "cell_type": "code",
   "execution_count": 45,
   "id": "2f025f06-602f-4c11-82b3-47e31f9af12a",
   "metadata": {},
   "outputs": [],
   "source": [
    "df_train = df_keep.iloc[idx[:n_train]]\n",
    "df_val = df_keep.iloc[idx[n_train:n_train+n_val]]\n",
    "df_test = df_keep.iloc[idx[n_train+n_val:]]"
   ]
  },
  {
   "cell_type": "code",
   "execution_count": 46,
   "id": "14945fa5-83cf-4d97-8c44-409d516ddb7a",
   "metadata": {},
   "outputs": [],
   "source": [
    "df_train = df_train.reset_index(drop=True)\n",
    "df_val = df_val.reset_index(drop=True)\n",
    "df_test = df_test.reset_index(drop=True)"
   ]
  },
  {
   "cell_type": "code",
   "execution_count": 47,
   "id": "1b83ad1a-dd6f-4ed5-b2b7-53bf649958c8",
   "metadata": {},
   "outputs": [],
   "source": [
    "y_train = df_train['final_price']\n",
    "y_val = df_val['final_price']\n",
    "y_test = df_test['final_price']"
   ]
  },
  {
   "cell_type": "code",
   "execution_count": 48,
   "id": "f1230870-2ea0-46d1-86f3-a441001fa4d8",
   "metadata": {},
   "outputs": [],
   "source": [
    "del df_train['final_price']\n",
    "del df_val['final_price']\n",
    "del df_test['final_price']"
   ]
  },
  {
   "cell_type": "code",
   "execution_count": 49,
   "id": "b58e6026-27cc-428b-8a79-4c2431746dd9",
   "metadata": {},
   "outputs": [],
   "source": [
    "def train_linear_regression(X, y):\n",
    "    ones = np.ones(X.shape[0])\n",
    "    X = np.column_stack([ones, X])\n",
    "\n",
    "    XTX = X.T.dot(X)\n",
    "    XTX_inv = np.linalg.inv(XTX)\n",
    "    w_full = XTX_inv.dot(X.T).dot(y)\n",
    "    \n",
    "    return w_full[0], w_full[1:]"
   ]
  },
  {
   "cell_type": "markdown",
   "id": "cd588c68-fcba-4248-8967-91b3886da3a9",
   "metadata": {},
   "source": [
    "#### Filling NAs with 0 and training"
   ]
  },
  {
   "cell_type": "code",
   "execution_count": 52,
   "id": "0cab64c0-1eb1-47e6-9872-aa9bfd9a8040",
   "metadata": {},
   "outputs": [],
   "source": [
    "X_train_0 = df_train.fillna(0)"
   ]
  },
  {
   "cell_type": "code",
   "execution_count": 65,
   "id": "0e25186e-2f06-4691-96fb-0b3ca1ad3278",
   "metadata": {},
   "outputs": [
    {
     "data": {
      "text/plain": [
       "(676.8954853003471, array([ 43.70681555,   0.86506867, -36.10399833]))"
      ]
     },
     "execution_count": 65,
     "metadata": {},
     "output_type": "execute_result"
    }
   ],
   "source": [
    "w0, w = train_linear_regression(X_train_0, y_train)\n",
    "w0, w"
   ]
  },
  {
   "cell_type": "code",
   "execution_count": 66,
   "id": "886290fa-f8d2-44dd-8ed7-63aaac5ef801",
   "metadata": {},
   "outputs": [],
   "source": [
    "y_pred = w0 + df_val.dot(w)"
   ]
  },
  {
   "cell_type": "code",
   "execution_count": 67,
   "id": "97ed77ac-938b-4c7d-a6e8-957d71926f95",
   "metadata": {},
   "outputs": [
    {
     "data": {
      "text/plain": [
       "0      2362.918277\n",
       "1      1255.897318\n",
       "2      1081.070056\n",
       "3       756.993211\n",
       "4       906.242794\n",
       "          ...     \n",
       "427     667.926821\n",
       "428     767.824411\n",
       "429     964.009191\n",
       "430    1313.663715\n",
       "431     401.631166\n",
       "Length: 432, dtype: float64"
      ]
     },
     "execution_count": 67,
     "metadata": {},
     "output_type": "execute_result"
    }
   ],
   "source": [
    "y_pred"
   ]
  },
  {
   "cell_type": "code",
   "execution_count": 68,
   "id": "60e9ee49-ecba-43dd-b2e1-d44515758ab0",
   "metadata": {},
   "outputs": [],
   "source": [
    "def rmse(y, y_pred):\n",
    "    se = (y - y_pred) ** 2\n",
    "    mse = se.mean()\n",
    "    return np.sqrt(mse)"
   ]
  },
  {
   "cell_type": "code",
   "execution_count": 69,
   "id": "9359b78f-fc11-4576-93ad-528809e3019d",
   "metadata": {},
   "outputs": [
    {
     "data": {
      "text/plain": [
       "596.9643847703726"
      ]
     },
     "execution_count": 69,
     "metadata": {},
     "output_type": "execute_result"
    }
   ],
   "source": [
    "rmse(y_pred, y_val)"
   ]
  },
  {
   "cell_type": "markdown",
   "id": "4435b1bd-4bfd-44f1-b9f0-973ed8967ee4",
   "metadata": {},
   "source": [
    "#### Filling NAs with mean and training"
   ]
  },
  {
   "cell_type": "code",
   "execution_count": 57,
   "id": "df2886b3-216a-4f71-91df-9285f94a2f21",
   "metadata": {},
   "outputs": [],
   "source": [
    "mean = df_train.screen.mean()\n",
    "\n",
    "X_train_mean = df_train.fillna(mean)"
   ]
  },
  {
   "cell_type": "code",
   "execution_count": 70,
   "id": "ee8fcfe2-f3c2-4e83-9e8c-ca69cb8c0010",
   "metadata": {},
   "outputs": [
    {
     "data": {
      "text/plain": [
       "(808.9159907333383, array([ 43.90774584,   0.87135236, -45.18273312]))"
      ]
     },
     "execution_count": 70,
     "metadata": {},
     "output_type": "execute_result"
    }
   ],
   "source": [
    "w0, w = train_linear_regression(X_train_mean, y_train)\n",
    "w0, w"
   ]
  },
  {
   "cell_type": "code",
   "execution_count": 71,
   "id": "a2338e7e-19fe-48ab-9515-05d0102c7e4d",
   "metadata": {},
   "outputs": [],
   "source": [
    "y_pred = w0 + df_val.dot(w)"
   ]
  },
  {
   "cell_type": "code",
   "execution_count": 72,
   "id": "de82da66-58b2-4aeb-be14-293c7bfba301",
   "metadata": {},
   "outputs": [
    {
     "data": {
      "text/plain": [
       "597.7070669180578"
      ]
     },
     "execution_count": 72,
     "metadata": {},
     "output_type": "execute_result"
    }
   ],
   "source": [
    "rmse(y_pred, y_val)"
   ]
  },
  {
   "cell_type": "code",
   "execution_count": 73,
   "id": "9080db90-59bb-4786-a523-f9450f5452c9",
   "metadata": {},
   "outputs": [],
   "source": [
    "#Marginally better RMSE with fillna(0) compared to fillna(mean)"
   ]
  },
  {
   "cell_type": "markdown",
   "id": "78163651-680b-4f76-ba51-9d2e335448d0",
   "metadata": {},
   "source": [
    "#### Question 4"
   ]
  },
  {
   "cell_type": "code",
   "execution_count": 81,
   "id": "df508b74-2971-4927-9e3b-28eb2cdbee8e",
   "metadata": {},
   "outputs": [],
   "source": [
    "def train_linear_regression_reg(X, y, r=0.001):\n",
    "    ones = np.ones(X.shape[0])\n",
    "    X = np.column_stack([ones, X])\n",
    "\n",
    "    XTX = X.T.dot(X)\n",
    "    XTX = XTX + r * np.eye(XTX.shape[0])\n",
    "\n",
    "    XTX_inv = np.linalg.inv(XTX)\n",
    "    w_full = XTX_inv.dot(X.T).dot(y)\n",
    "    \n",
    "    return w_full[0], w_full[1:]"
   ]
  },
  {
   "cell_type": "code",
   "execution_count": 82,
   "id": "d36deb15-11fc-4ab9-b4d3-67cdcaee7c08",
   "metadata": {},
   "outputs": [],
   "source": [
    "X_train_0 = df_train.fillna(0)"
   ]
  },
  {
   "cell_type": "code",
   "execution_count": 83,
   "id": "b6dd4cde-1f6e-4ce5-b6d6-36523fb8f5ee",
   "metadata": {},
   "outputs": [
    {
     "name": "stdout",
     "output_type": "stream",
     "text": [
      "0.0 676.8954853003471 596.9643847703726\n",
      "1e-05 676.8948629251016 596.9643810097239\n",
      "0.0001 676.8892615992215 596.9643471643457\n",
      "0.001 676.8332534432681 596.9640087563886\n",
      "0.1 670.7284836313021 596.9272864329818\n",
      "1 619.9030834107807 596.6341330896954\n",
      "10 352.79713367676436 595.4634999003733\n"
     ]
    }
   ],
   "source": [
    "for r in [0.0, 0.00001, 0.0001, 0.001, 0.1, 1, 10]:\n",
    "    w0, w = train_linear_regression_reg(X_train_0, y_train, r=r)\n",
    "\n",
    "    y_pred = w0 + X_val.dot(w)\n",
    "    score = rmse(y_val, y_pred)\n",
    "    \n",
    "    print(r, w0, score)"
   ]
  },
  {
   "cell_type": "markdown",
   "id": "158b1746-8c36-4f8b-8b20-a26052c745fe",
   "metadata": {},
   "source": [
    "#### Question 5"
   ]
  },
  {
   "cell_type": "code",
   "execution_count": null,
   "id": "94ef4daa-2170-45c4-970e-4f124a2ac589",
   "metadata": {},
   "outputs": [],
   "source": [
    "seed = [0, 1, 2, 3, 4, 5, 6, 7, 8, 9]"
   ]
  },
  {
   "cell_type": "code",
   "execution_count": null,
   "id": "d85c71e4-f2fd-4125-9584-81fad50a458c",
   "metadata": {},
   "outputs": [],
   "source": [
    "#linear regression without regularization\n",
    "def train_linear_regression(X, y):\n",
    "    ones = np.ones(X.shape[0])\n",
    "    X = np.column_stack([ones, X])\n",
    "\n",
    "    XTX = X.T.dot(X)\n",
    "    XTX_inv = np.linalg.inv(XTX)\n",
    "    w_full = XTX_inv.dot(X.T).dot(y)\n",
    "    \n",
    "    return w_full[0], w_full[1:]"
   ]
  },
  {
   "cell_type": "code",
   "execution_count": 88,
   "id": "c6557480-1576-4e6b-aab2-1ae4075891b5",
   "metadata": {},
   "outputs": [
    {
     "name": "stdout",
     "output_type": "stream",
     "text": [
      "0 565.9748040791599\n",
      "\n",
      "1 636.3404675641771\n",
      "\n",
      "2 588.955869790796\n",
      "\n",
      "3 597.7436621646907\n",
      "\n",
      "4 571.962791511103\n",
      "\n",
      "5 573.238325661895\n",
      "\n",
      "6 647.2469694217853\n",
      "\n",
      "7 548.9372396061776\n",
      "\n",
      "8 587.3335036169963\n",
      "\n",
      "9 576.491366038104\n",
      "\n"
     ]
    }
   ],
   "source": [
    "seed = [0, 1, 2, 3, 4, 5, 6, 7, 8, 9]\n",
    "list_of_rmse=[]\n",
    "for i in seed:\n",
    "    np.random.seed(i)\n",
    "    idx = np.arange(n)\n",
    "    np.random.shuffle(idx)\n",
    "\n",
    "    #split based on index\n",
    "    df_train = df_keep.iloc[idx[:n_train]]\n",
    "    df_val = df_keep.iloc[idx[n_train:n_train+n_val]]\n",
    "    df_test = df_keep.iloc[idx[n_train+n_val:]]\n",
    "    \n",
    "    #reset index\n",
    "    df_train = df_train.reset_index(drop=True)\n",
    "    df_val = df_val.reset_index(drop=True)\n",
    "    df_test = df_test.reset_index(drop=True)\n",
    "\n",
    "    #gettign target variable out\n",
    "    y_train = df_train['final_price']\n",
    "    y_val = df_val['final_price']\n",
    "    y_test = df_test['final_price']\n",
    "\n",
    "    #removing target variable from feature matrix\n",
    "    del df_train['final_price']\n",
    "    del df_val['final_price']\n",
    "    del df_test['final_price']\n",
    "\n",
    "    X_train_0 = df_train.fillna(0)\n",
    "    w0, w = train_linear_regression(X_train_0, y_train)\n",
    "    y_pred = w0 + df_val.dot(w)\n",
    "\n",
    "    def rmse(y, y_pred):\n",
    "        se = (y - y_pred) ** 2\n",
    "        mse = se.mean()\n",
    "        return np.sqrt(mse)\n",
    "    \n",
    "    list_of_rmse.append(rmse(y_pred, y_val))\n",
    "    \n",
    "    print(i, rmse(y_pred, y_val))\n",
    "    print()"
   ]
  },
  {
   "cell_type": "code",
   "execution_count": 95,
   "id": "1966fab6-99e2-4441-9aca-2a4f53cad6c1",
   "metadata": {},
   "outputs": [
    {
     "data": {
      "text/plain": [
       "29.226"
      ]
     },
     "execution_count": 95,
     "metadata": {},
     "output_type": "execute_result"
    }
   ],
   "source": [
    "round(np.std(list_of_rmse),3)"
   ]
  },
  {
   "cell_type": "markdown",
   "id": "57744726-d011-4849-9eb1-ec8408b79fab",
   "metadata": {},
   "source": [
    "#### Question 6 - "
   ]
  },
  {
   "cell_type": "code",
   "execution_count": null,
   "id": "f128e439-5230-43c9-88df-a15beb08c057",
   "metadata": {},
   "outputs": [],
   "source": [
    "np.random.seed(9)\n",
    "idx = np.arange(n)\n",
    "np.random.shuffle(idx)\n",
    "\n",
    "#split based on index\n",
    "df_train = df_keep.iloc[idx[:n_train]]\n",
    "df_val = df_keep.iloc[idx[n_train:n_train+n_val]]\n",
    "df_test = df_keep.iloc[idx[n_train+n_val:]]\n",
    "\n",
    "#reset index\n",
    "df_train = df_train.reset_index(drop=True)\n",
    "df_val = df_val.reset_index(drop=True)\n",
    "df_test = df_test.reset_index(drop=True)\n",
    "\n",
    "#gettign target variable out\n",
    "y_train = df_train['final_price']\n",
    "y_val = df_val['final_price']\n",
    "y_test = df_test['final_price']\n",
    "\n",
    "#removing target variable from feature matrix\n",
    "del df_train['final_price']\n",
    "del df_val['final_price']\n",
    "del df_test['final_price']"
   ]
  },
  {
   "cell_type": "code",
   "execution_count": 96,
   "id": "98d2e539-2150-420c-8bd9-accc1a975ab5",
   "metadata": {},
   "outputs": [],
   "source": [
    "X_full_train = pd.concat([df_train, df_val])\n",
    "X_full_train = X_full_train.fillna(0)\n",
    "\n",
    "y_full_train = np.concatenate([y_train, y_val])"
   ]
  },
  {
   "cell_type": "code",
   "execution_count": 97,
   "id": "6ec79793-3587-47da-8458-25061e4f6b30",
   "metadata": {},
   "outputs": [],
   "source": [
    "def train_linear_regression_reg(X, y, r=0.001):\n",
    "    ones = np.ones(X.shape[0])\n",
    "    X = np.column_stack([ones, X])\n",
    "\n",
    "    XTX = X.T.dot(X)\n",
    "    XTX = XTX + r * np.eye(XTX.shape[0])\n",
    "\n",
    "    XTX_inv = np.linalg.inv(XTX)\n",
    "    w_full = XTX_inv.dot(X.T).dot(y)\n",
    "    \n",
    "    return w_full[0], w_full[1:]"
   ]
  },
  {
   "cell_type": "code",
   "execution_count": 99,
   "id": "3cd79fb8-2c57-4ee8-b4f9-c31855e96602",
   "metadata": {},
   "outputs": [],
   "source": [
    "w0, w = train_linear_regression_reg(X_full_train,y_full_train)"
   ]
  },
  {
   "cell_type": "code",
   "execution_count": 100,
   "id": "b13ff205-778a-496c-a5fe-fff1513c3360",
   "metadata": {},
   "outputs": [
    {
     "data": {
      "text/plain": [
       "608.3000367227687"
      ]
     },
     "execution_count": 100,
     "metadata": {},
     "output_type": "execute_result"
    }
   ],
   "source": [
    "y_pred = w0 + df_test.dot(w)\n",
    "rmse(y_pred, y_test)"
   ]
  },
  {
   "cell_type": "code",
   "execution_count": null,
   "id": "c5533c12-7807-40ef-8611-7806414357e6",
   "metadata": {},
   "outputs": [],
   "source": []
  }
 ],
 "metadata": {
  "kernelspec": {
   "display_name": "Python 3 (ipykernel)",
   "language": "python",
   "name": "python3"
  },
  "language_info": {
   "codemirror_mode": {
    "name": "ipython",
    "version": 3
   },
   "file_extension": ".py",
   "mimetype": "text/x-python",
   "name": "python",
   "nbconvert_exporter": "python",
   "pygments_lexer": "ipython3",
   "version": "3.11.7"
  }
 },
 "nbformat": 4,
 "nbformat_minor": 5
}
